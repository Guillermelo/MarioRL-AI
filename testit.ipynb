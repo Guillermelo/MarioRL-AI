{
 "cells": [
  {
   "cell_type": "code",
   "execution_count": 1,
   "id": "f7e1c314-bf88-49c2-80e5-ef8c77b0d95c",
   "metadata": {},
   "outputs": [],
   "source": [
    "import torch\n",
    "import gym\n",
    "import gym_super_mario_bros\n",
    "from gym import RewardWrapper\n",
    "from gym_super_mario_bros import make\n",
    "\n",
    "from nes_py.wrappers import JoypadSpace\n",
    "from gym_super_mario_bros.actions import SIMPLE_MOVEMENT, COMPLEX_MOVEMENT\n",
    "import cv2\n",
    "import numpy as np  # ✅ Ensure NumPy is imported\n",
    "import matplotlib.pyplot as plt\n",
    "\n",
    "from gym.wrappers import FrameStack, GrayScaleObservation, ResizeObservation\n",
    "\n",
    "from stable_baselines3.common.vec_env import VecFrameStack, DummyVecEnv\n",
    "\n",
    "from matplotlib import pyplot as plt \n",
    "\n",
    "#import alldependencies\n",
    "import os \n",
    "from stable_baselines3 import PPO\n",
    "#for saving the models every xxx amount of steps \n",
    "from stable_baselines3.common.callbacks import BaseCallback"
   ]
  },
  {
   "cell_type": "code",
   "execution_count": 2,
   "id": "7643174a-1009-422a-b487-17743426e3b2",
   "metadata": {},
   "outputs": [],
   "source": [
    "\n",
    "\n",
    "class NoSeedResetWrapper(gym.Wrapper):\n",
    "    def reset(self, **kwargs):\n",
    "        kwargs.pop(\"seed\", None)     # ✅ Remove 'seed' argument\n",
    "        kwargs.pop(\"options\", None)  # ✅ Remove 'options' argument\n",
    "        return self.env.reset(**kwargs)\n",
    "class CustomRewardWrapper(RewardWrapper):\n",
    "    def __init__(self, env):\n",
    "        super().__init__(env)\n",
    "        self.previous_x = 0  # Guardar la posición anterior de Mario\n",
    "\n",
    "    def step(self, action):\n",
    "        \"\"\"\n",
    "        Llama al método `step()` del entorno y modifica la recompensa antes de retornarla.\n",
    "        \"\"\"\n",
    "        observation, reward, done, truncated, info = self.env.step(action)  # Extraer `info` correctamente\n",
    "        \n",
    "        current_x = info['x_pos']  # Posición de Mario en el eje X\n",
    "        current_time = info['time']  # Tiempo restante en el juego\n",
    "        \n",
    "        # Penalización por paso del tiempo (Reducida para que no castigue demasiado)\n",
    "        time_penalty = -0.05  \n",
    "\n",
    "        # Incentivar avance en la pantalla (Aumento de la recompensa por avanzar)\n",
    "        progress_reward = (current_x - self.previous_x) * 0.2  \n",
    "        \n",
    "        # Bonificación adicional por mantener una velocidad alta\n",
    "        if (current_x - self.previous_x) > 3:  # Si avanza más de 3 unidades en un solo paso\n",
    "            progress_reward += 0.1  \n",
    "\n",
    "        self.previous_x = current_x  # Actualizar la posición anterior\n",
    "        \n",
    "        # Penalizar quedarse quieto\n",
    "        if progress_reward <= 0:\n",
    "            progress_reward -= 0.01  # Penalización leve si no avanza\n",
    "        \n",
    "        # Penalización fuerte si Mario pierde todas sus vidas\n",
    "        if info['life'] == 0:\n",
    "            progress_reward -= 50\n",
    "        \n",
    "        # Modificar la recompensa final\n",
    "        modified_reward = reward + progress_reward + time_penalty\n",
    "        \n",
    "        return observation, modified_reward, done, truncated, info  # Retornar los valores corregidos\n"
   ]
  },
  {
   "cell_type": "code",
   "execution_count": 3,
   "id": "8e7cdd09-009e-4207-9227-c07a49abd7f9",
   "metadata": {},
   "outputs": [
    {
     "name": "stderr",
     "output_type": "stream",
     "text": [
      "C:\\Users\\santi\\AppData\\Roaming\\Python\\Python38\\site-packages\\gym\\envs\\registration.py:555: UserWarning: \u001b[33mWARN: The environment SuperMarioBros-v0 is out of date. You should consider upgrading to version `v3`.\u001b[0m\n",
      "  logger.warn(\n",
      "C:\\Users\\santi\\AppData\\Roaming\\Python\\Python38\\site-packages\\gym\\envs\\registration.py:627: UserWarning: \u001b[33mWARN: The environment creator metadata doesn't include `render_modes`, contains: ['render.modes', 'video.frames_per_second']\u001b[0m\n",
      "  logger.warn(\n",
      "C:\\Users\\santi\\AppData\\Roaming\\Python\\Python38\\site-packages\\stable_baselines3\\common\\vec_env\\patch_gym.py:49: UserWarning: You provided an OpenAI Gym environment. We strongly recommend transitioning to Gymnasium environments. Stable-Baselines3 is automatically wrapping your environments in a compatibility layer, which could potentially cause issues.\n",
      "  warnings.warn(\n"
     ]
    }
   ],
   "source": [
    "#create base env \n",
    "env = gym_super_mario_bros.make('SuperMarioBros-v0',apply_api_compatibility=True,render_mode=\"human\")\n",
    "\n",
    "env = JoypadSpace(env, SIMPLE_MOVEMENT)\n",
    "\n",
    "#actualice the reward system \n",
    "#env = CustomRewardWrapper(env)  # Aplicar el wrapper de recompensa\n",
    "\n",
    "#RESIZES THE SHAPE FOR IT TO CONSUME LESS ENERGY\n",
    "#env = ResizeObservation(env, shape=84)\n",
    "\n",
    "#gray scale the env\n",
    "env = GrayScaleObservation(env, keep_dim=True)\n",
    "env = NoSeedResetWrapper(env)\n",
    "#wrap inside dummyy\n",
    "env = DummyVecEnv([lambda: env])\n",
    "#stack\n",
    "\n",
    "env = VecFrameStack(env, 4, channels_order='last')"
   ]
  },
  {
   "cell_type": "code",
   "execution_count": 4,
   "id": "604b80c7-41b0-4479-baab-f014bd70a1b5",
   "metadata": {},
   "outputs": [
    {
     "name": "stdout",
     "output_type": "stream",
     "text": [
      "State Type: <class 'numpy.ndarray'>\n",
      "State Shape: (1, 240, 256, 4)\n",
      "State Min: 0, State Max: 252\n",
      "State Shape: (1, 240, 256, 4)\n"
     ]
    }
   ],
   "source": [
    "#state = env.reset()\n",
    "#state.shape\n",
    "# viene en tuplet la informacion del env.reset  entonces algunas cosas no va a imprimir bien\n",
    "#state, _ = env.reset()  # Extract only the state\n",
    "#print(f\"State Shape: {state.shape}\")\n",
    "# Reset the environment\n",
    "state = env.reset()\n",
    "\n",
    "print(f\"State Type: {type(state)}\")\n",
    "print(f\"State Shape: {getattr(state, 'shape', 'No Shape Attribute')}\")\n",
    "print(f\"State Min: {state.min()}, State Max: {state.max()}\")\n",
    "\n",
    "\n",
    "# If using Gymnasium, state is a tuple (state, info), so extract the state\n",
    "if isinstance(state, tuple):\n",
    "    state = state[0]  # Extract the actual observation\n",
    "\n",
    "# Print the shape of the stacked frames\n",
    "print(f\"State Shape: {state.shape}\")\n"
   ]
  },
  {
   "cell_type": "code",
   "execution_count": 5,
   "id": "13352c6f-35a4-49ae-91a3-efa8b875686c",
   "metadata": {},
   "outputs": [],
   "source": [
    "model = PPO.load('./train/best_model_440000')\n",
    "state = env.reset()"
   ]
  },
  {
   "cell_type": "code",
   "execution_count": null,
   "id": "a3bb2fc3-39db-4966-89af-b0424116ae00",
   "metadata": {},
   "outputs": [
    {
     "name": "stderr",
     "output_type": "stream",
     "text": [
      "C:\\Users\\santi\\AppData\\Roaming\\Python\\Python38\\site-packages\\gym\\utils\\passive_env_checker.py:233: DeprecationWarning: `np.bool8` is a deprecated alias for `np.bool_`.  (Deprecated NumPy 1.24)\n",
      "  if not isinstance(terminated, (bool, np.bool8)):\n",
      "C:\\Users\\santi\\AppData\\Roaming\\Python\\Python38\\site-packages\\gym_super_mario_bros\\smb_env.py:148: RuntimeWarning: overflow encountered in scalar subtract\n",
      "  return (self.ram[0x86] - self.ram[0x071c]) % 256\n"
     ]
    }
   ],
   "source": [
    "state= env.reset()\n",
    "while True:\n",
    "    action, _ = model.predict(state)\n",
    "    state, reward,done, info = env.step(action)\n",
    "    env.render"
   ]
  },
  {
   "cell_type": "code",
   "execution_count": null,
   "id": "8a7ed426-52f9-4ed5-ae77-5e585d0fa503",
   "metadata": {},
   "outputs": [],
   "source": []
  },
  {
   "cell_type": "code",
   "execution_count": null,
   "id": "e76d8b01-39ff-43ce-b8a9-0115ba7cd96e",
   "metadata": {},
   "outputs": [],
   "source": []
  },
  {
   "cell_type": "code",
   "execution_count": null,
   "id": "5ba8cd2d-d521-4d16-924b-de1d60490181",
   "metadata": {},
   "outputs": [],
   "source": []
  }
 ],
 "metadata": {
  "kernelspec": {
   "display_name": "Python 3 (ipykernel)",
   "language": "python",
   "name": "python3"
  },
  "language_info": {
   "codemirror_mode": {
    "name": "ipython",
    "version": 3
   },
   "file_extension": ".py",
   "mimetype": "text/x-python",
   "name": "python",
   "nbconvert_exporter": "python",
   "pygments_lexer": "ipython3",
   "version": "3.8.20"
  }
 },
 "nbformat": 4,
 "nbformat_minor": 5
}
